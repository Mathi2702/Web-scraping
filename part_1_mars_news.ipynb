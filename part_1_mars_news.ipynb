{
 "cells": [
  {
   "cell_type": "markdown",
   "metadata": {},
   "source": [
    "# Module 12 Challenge\n",
    "## Deliverable 1: Scrape Titles and Preview Text from Mars News"
   ]
  },
  {
   "cell_type": "code",
   "execution_count": 1,
   "metadata": {},
   "outputs": [],
   "source": [
    "# Import Splinter and BeautifulSoup\n",
    "from splinter import Browser\n",
    "from bs4 import BeautifulSoup \n",
    "from webdriver_manager.chrome import ChromeDriverManager\n",
    "import requests\n",
    "import pprint\n",
    "import json\n",
    "import pymongo"
   ]
  },
  {
   "cell_type": "code",
   "execution_count": 2,
   "metadata": {
    "scrolled": true
   },
   "outputs": [],
   "source": [
    "executable_path = {'executable_path': ChromeDriverManager().install()}\n",
    "browser = Browser('chrome', **executable_path, headless=False)"
   ]
  },
  {
   "cell_type": "markdown",
   "metadata": {},
   "source": [
    "### Step 1: Visit the Website\n",
    "\n",
    "1. Use automated browsing to visit the [Mars NASA news site](https://redplanetscience.com). Inspect the page to identify which elements to scrape.\n",
    "\n",
    "      > **Hint** To identify which elements to scrape, you might want to inspect the page by using Chrome DevTools."
   ]
  },
  {
   "cell_type": "code",
   "execution_count": 3,
   "metadata": {},
   "outputs": [],
   "source": [
    "# Visit the Mars NASA news site: https://redplanetscience.com\n",
    "url = 'https://redplanetscience.com'\n",
    "browser.visit(url)\n",
    "response = browser.html\n",
    "#To retreive the page\n",
    "#response = requests.get(url)\n",
    "#print(response.text)"
   ]
  },
  {
   "cell_type": "markdown",
   "metadata": {},
   "source": [
    "### Step 2: Scrape the Website\n",
    "\n",
    "Create a Beautiful Soup object and use it to extract text elements from the website."
   ]
  },
  {
   "cell_type": "code",
   "execution_count": 4,
   "metadata": {},
   "outputs": [],
   "source": [
    "# Create a Beautiful Soup object\n",
    "soup = BeautifulSoup(response, 'html.parser')\n",
    "#print(soup.prettify())"
   ]
  },
  {
   "cell_type": "code",
   "execution_count": 5,
   "metadata": {},
   "outputs": [],
   "source": [
    "# Extract all the text elements\n",
    "results = soup.find_all('div', class_='list_text')\n"
   ]
  },
  {
   "cell_type": "code",
   "execution_count": 6,
   "metadata": {},
   "outputs": [
    {
     "name": "stdout",
     "output_type": "stream",
     "text": [
      "[<div class=\"list_text\">\n",
      "<div class=\"list_date\">December 14, 2022</div>\n",
      "<div class=\"content_title\">NASA Administrator Statement on Moon to Mars Initiative, FY 2021 Budget</div>\n",
      "<div class=\"article_teaser_body\">Jim Bridenstine addresses NASA's ambitious plans for the coming years, including Mars Sample Return.</div>\n",
      "</div>, <div class=\"list_text\">\n",
      "<div class=\"list_date\">December 13, 2022</div>\n",
      "<div class=\"content_title\">Meet the People Behind NASA's Perseverance Rover</div>\n",
      "<div class=\"article_teaser_body\">These are the scientists and engineers who built NASA's next Mars rover and who will guide it to a safe landing in Jezero Crater. </div>\n",
      "</div>, <div class=\"list_text\">\n",
      "<div class=\"list_date\">December 12, 2022</div>\n",
      "<div class=\"content_title\">8 Martian Postcards to Celebrate Curiosity's Landing Anniversary</div>\n",
      "<div class=\"article_teaser_body\">The NASA rover touched down eight years ago, on Aug. 5, 2012, and will soon be joined by a second rover, Perseverance.</div>\n",
      "</div>, <div class=\"list_text\">\n",
      "<div class=\"list_date\">December 10, 2022</div>\n",
      "<div class=\"content_title\">NASA's Ingenuity Mars Helicopter Recharges Its Batteries in Flight</div>\n",
      "<div class=\"article_teaser_body\">Headed to the Red Planet with the Perseverance rover, the pioneering helicopter is powered up for the first time in interplanetary space as part of a systems check.</div>\n",
      "</div>, <div class=\"list_text\">\n",
      "<div class=\"list_date\">December 8, 2022</div>\n",
      "<div class=\"content_title\">Three New Views of Mars' Moon Phobos</div>\n",
      "<div class=\"article_teaser_body\">Taken with the infrared camera aboard NASA's Odyssey orbiter, they reveal temperature variations on the small moon as it drifts into and out of Mars’ shadow.</div>\n",
      "</div>, <div class=\"list_text\">\n",
      "<div class=\"list_date\">December 7, 2022</div>\n",
      "<div class=\"content_title\">NASA's Mars 2020 Comes Full Circle</div>\n",
      "<div class=\"article_teaser_body\">Aiming to pinpoint the Martian vehicle's center of gravity, engineers took NASA's 2,300-pound Mars 2020 rover for a spin in the clean room at JPL. </div>\n",
      "</div>, <div class=\"list_text\">\n",
      "<div class=\"list_date\">December 6, 2022</div>\n",
      "<div class=\"content_title\">NASA's Perseverance Rover Will Carry First Spacesuit Materials to Mars</div>\n",
      "<div class=\"article_teaser_body\">In a Q&amp;A, spacesuit designer Amy Ross explains how five samples, including a piece of helmet visor, will be tested aboard the rover, which is targeting a July 30 launch. </div>\n",
      "</div>, <div class=\"list_text\">\n",
      "<div class=\"list_date\">December 5, 2022</div>\n",
      "<div class=\"content_title\">Space History Is Made in This NASA Robot Factory</div>\n",
      "<div class=\"article_teaser_body\">From rockets to rovers, JPL's Spacecraft Assembly Facility has been at the center of robotic spaceflight. Here's a closer look at what makes it so special.</div>\n",
      "</div>, <div class=\"list_text\">\n",
      "<div class=\"list_date\">December 1, 2022</div>\n",
      "<div class=\"content_title\">Mars 2020 Unwrapped and Ready for More Testing</div>\n",
      "<div class=\"article_teaser_body\">In time-lapse video, bunny-suited engineers remove the inner layer of protective foil on NASA's Mars 2020 rover after it was relocated for testing.</div>\n",
      "</div>, <div class=\"list_text\">\n",
      "<div class=\"list_date\">November 30, 2022</div>\n",
      "<div class=\"content_title\">10.9 Million Names Now Aboard NASA's Perseverance Mars Rover</div>\n",
      "<div class=\"article_teaser_body\">As part of NASA's 'Send Your Name to Mars' campaign, they've been stenciled onto three microchips along with essays from NASA's 'Name the Rover' contest. Next stop: Mars.</div>\n",
      "</div>, <div class=\"list_text\">\n",
      "<div class=\"list_date\">November 30, 2022</div>\n",
      "<div class=\"content_title\">Mars Is Getting a New Robotic Meteorologist</div>\n",
      "<div class=\"article_teaser_body\">Sensors on NASA's Perseverance will help prepare for future human exploration by taking weather measurements and studying dust particles.</div>\n",
      "</div>, <div class=\"list_text\">\n",
      "<div class=\"list_date\">November 26, 2022</div>\n",
      "<div class=\"content_title\">The MarCO Mission Comes to an End</div>\n",
      "<div class=\"article_teaser_body\">The pair of briefcase-sized satellites made history when they sailed past Mars in 2019.</div>\n",
      "</div>, <div class=\"list_text\">\n",
      "<div class=\"list_date\">November 24, 2022</div>\n",
      "<div class=\"content_title\">How NASA's Mars Helicopter Will Reach the Red Planet's Surface</div>\n",
      "<div class=\"article_teaser_body\">The small craft will seek to prove that powered, controlled flight is possible on another planet. But just getting it onto the surface of Mars will take a whole lot of ingenuity.</div>\n",
      "</div>, <div class=\"list_text\">\n",
      "<div class=\"list_date\">November 23, 2022</div>\n",
      "<div class=\"content_title\">NASA's Curiosity Mars Rover Snaps Its Highest-Resolution Panorama Yet</div>\n",
      "<div class=\"article_teaser_body\">To go along with the stunning 1.8-billion-pixel image, a new video offers a sweeping view of the Red Planet.</div>\n",
      "</div>, <div class=\"list_text\">\n",
      "<div class=\"list_date\">November 14, 2022</div>\n",
      "<div class=\"content_title\">MAVEN Maps Electric Currents around Mars that are Fundamental to Atmospheric Loss</div>\n",
      "<div class=\"article_teaser_body\">Five years after NASA’s MAVEN spacecraft entered into orbit around Mars, data from the mission has led to the creation of a map of electric current systems in the Martian atmosphere.</div>\n",
      "</div>]\n"
     ]
    }
   ],
   "source": [
    "print(results)"
   ]
  },
  {
   "cell_type": "markdown",
   "metadata": {},
   "source": [
    "### Step 3: Store the Results\n",
    "\n",
    "Extract the titles and preview text of the news articles that you scraped. Store the scraping results in Python data structures as follows:\n",
    "\n",
    "* Store each title-and-preview pair in a Python dictionary. And, give each dictionary two keys: `title` and `preview`. An example is the following:\n",
    "\n",
    "  ```python\n",
    "  {'title': \"Mars Rover Begins Mission!\", \n",
    "        'preview': \"NASA's Mars Rover begins a multiyear mission to collect data about the little-explored planet.\"}\n",
    "  ```\n",
    "\n",
    "* Store all the dictionaries in a Python list.\n",
    "\n",
    "* Print the list in your notebook."
   ]
  },
  {
   "cell_type": "code",
   "execution_count": 7,
   "metadata": {},
   "outputs": [],
   "source": [
    "# Create an empty list to store the dictionaries\n",
    "\n",
    "my_dict=[]   \n",
    "\n"
   ]
  },
  {
   "cell_type": "code",
   "execution_count": 8,
   "metadata": {},
   "outputs": [
    {
     "name": "stdout",
     "output_type": "stream",
     "text": [
      "-----------------\n",
      "NASA Administrator Statement on Moon to Mars Initiative, FY 2021 Budget\n",
      "Jim Bridenstine addresses NASA's ambitious plans for the coming years, including Mars Sample Return.\n",
      "-----------------\n",
      "Meet the People Behind NASA's Perseverance Rover\n",
      "These are the scientists and engineers who built NASA's next Mars rover and who will guide it to a safe landing in Jezero Crater. \n",
      "-----------------\n",
      "8 Martian Postcards to Celebrate Curiosity's Landing Anniversary\n",
      "The NASA rover touched down eight years ago, on Aug. 5, 2012, and will soon be joined by a second rover, Perseverance.\n",
      "-----------------\n",
      "NASA's Ingenuity Mars Helicopter Recharges Its Batteries in Flight\n",
      "Headed to the Red Planet with the Perseverance rover, the pioneering helicopter is powered up for the first time in interplanetary space as part of a systems check.\n",
      "-----------------\n",
      "Three New Views of Mars' Moon Phobos\n",
      "Taken with the infrared camera aboard NASA's Odyssey orbiter, they reveal temperature variations on the small moon as it drifts into and out of Mars’ shadow.\n",
      "-----------------\n",
      "NASA's Mars 2020 Comes Full Circle\n",
      "Aiming to pinpoint the Martian vehicle's center of gravity, engineers took NASA's 2,300-pound Mars 2020 rover for a spin in the clean room at JPL. \n",
      "-----------------\n",
      "NASA's Perseverance Rover Will Carry First Spacesuit Materials to Mars\n",
      "In a Q&A, spacesuit designer Amy Ross explains how five samples, including a piece of helmet visor, will be tested aboard the rover, which is targeting a July 30 launch. \n",
      "-----------------\n",
      "Space History Is Made in This NASA Robot Factory\n",
      "From rockets to rovers, JPL's Spacecraft Assembly Facility has been at the center of robotic spaceflight. Here's a closer look at what makes it so special.\n",
      "-----------------\n",
      "Mars 2020 Unwrapped and Ready for More Testing\n",
      "In time-lapse video, bunny-suited engineers remove the inner layer of protective foil on NASA's Mars 2020 rover after it was relocated for testing.\n",
      "-----------------\n",
      "10.9 Million Names Now Aboard NASA's Perseverance Mars Rover\n",
      "As part of NASA's 'Send Your Name to Mars' campaign, they've been stenciled onto three microchips along with essays from NASA's 'Name the Rover' contest. Next stop: Mars.\n",
      "-----------------\n",
      "Mars Is Getting a New Robotic Meteorologist\n",
      "Sensors on NASA's Perseverance will help prepare for future human exploration by taking weather measurements and studying dust particles.\n",
      "-----------------\n",
      "The MarCO Mission Comes to an End\n",
      "The pair of briefcase-sized satellites made history when they sailed past Mars in 2019.\n",
      "-----------------\n",
      "How NASA's Mars Helicopter Will Reach the Red Planet's Surface\n",
      "The small craft will seek to prove that powered, controlled flight is possible on another planet. But just getting it onto the surface of Mars will take a whole lot of ingenuity.\n",
      "-----------------\n",
      "NASA's Curiosity Mars Rover Snaps Its Highest-Resolution Panorama Yet\n",
      "To go along with the stunning 1.8-billion-pixel image, a new video offers a sweeping view of the Red Planet.\n",
      "-----------------\n",
      "MAVEN Maps Electric Currents around Mars that are Fundamental to Atmospheric Loss\n",
      "Five years after NASA’s MAVEN spacecraft entered into orbit around Mars, data from the mission has led to the creation of a map of electric current systems in the Martian atmosphere.\n"
     ]
    }
   ],
   "source": [
    "# Loop through the text elements\n",
    "# Extract the title and preview text from the elements\n",
    "# Store each title and preview pair in a dictionary\n",
    "# Add the dictionary to the list\n",
    "for result in results:\n",
    "    \n",
    "    # scrape the article header \n",
    "    title = result.find('div', class_='content_title').text\n",
    "    \n",
    "    # scrape the article news region\n",
    "    pre = result.find('div', class_='article_teaser_body').text\n",
    "    \n",
    "    \n",
    "    \n",
    "    # print title and preview data\n",
    "    print('-----------------')\n",
    "    print(title)\n",
    "    print(pre)\n",
    "    post = {\n",
    "            'title': title,\n",
    "            'preview': pre,\n",
    "        \n",
    "         }\n",
    " \n",
    "    # Dictionary to be inserted into MongoDB\n",
    "    my_dict.append(post)\n",
    "    #append the dictionary\n",
    "    \n",
    "\n",
    "    "
   ]
  },
  {
   "cell_type": "code",
   "execution_count": 9,
   "metadata": {},
   "outputs": [
    {
     "name": "stdout",
     "output_type": "stream",
     "text": [
      "[{'title': 'NASA Administrator Statement on Moon to Mars Initiative, FY 2021 Budget', 'preview': \"Jim Bridenstine addresses NASA's ambitious plans for the coming years, including Mars Sample Return.\"}, {'title': \"Meet the People Behind NASA's Perseverance Rover\", 'preview': \"These are the scientists and engineers who built NASA's next Mars rover and who will guide it to a safe landing in Jezero Crater. \"}, {'title': \"8 Martian Postcards to Celebrate Curiosity's Landing Anniversary\", 'preview': 'The NASA rover touched down eight years ago, on Aug. 5, 2012, and will soon be joined by a second rover, Perseverance.'}, {'title': \"NASA's Ingenuity Mars Helicopter Recharges Its Batteries in Flight\", 'preview': 'Headed to the Red Planet with the Perseverance rover, the pioneering helicopter is powered up for the first time in interplanetary space as part of a systems check.'}, {'title': \"Three New Views of Mars' Moon Phobos\", 'preview': \"Taken with the infrared camera aboard NASA's Odyssey orbiter, they reveal temperature variations on the small moon as it drifts into and out of Mars’ shadow.\"}, {'title': \"NASA's Mars 2020 Comes Full Circle\", 'preview': \"Aiming to pinpoint the Martian vehicle's center of gravity, engineers took NASA's 2,300-pound Mars 2020 rover for a spin in the clean room at JPL. \"}, {'title': \"NASA's Perseverance Rover Will Carry First Spacesuit Materials to Mars\", 'preview': 'In a Q&A, spacesuit designer Amy Ross explains how five samples, including a piece of helmet visor, will be tested aboard the rover, which is targeting a July 30 launch. '}, {'title': 'Space History Is Made in This NASA Robot Factory', 'preview': \"From rockets to rovers, JPL's Spacecraft Assembly Facility has been at the center of robotic spaceflight. Here's a closer look at what makes it so special.\"}, {'title': 'Mars 2020 Unwrapped and Ready for More Testing', 'preview': \"In time-lapse video, bunny-suited engineers remove the inner layer of protective foil on NASA's Mars 2020 rover after it was relocated for testing.\"}, {'title': \"10.9 Million Names Now Aboard NASA's Perseverance Mars Rover\", 'preview': \"As part of NASA's 'Send Your Name to Mars' campaign, they've been stenciled onto three microchips along with essays from NASA's 'Name the Rover' contest. Next stop: Mars.\"}, {'title': 'Mars Is Getting a New Robotic Meteorologist', 'preview': \"Sensors on NASA's Perseverance will help prepare for future human exploration by taking weather measurements and studying dust particles.\"}, {'title': 'The MarCO Mission Comes to an End', 'preview': 'The pair of briefcase-sized satellites made history when they sailed past Mars in 2019.'}, {'title': \"How NASA's Mars Helicopter Will Reach the Red Planet's Surface\", 'preview': 'The small craft will seek to prove that powered, controlled flight is possible on another planet. But just getting it onto the surface of Mars will take a whole lot of ingenuity.'}, {'title': \"NASA's Curiosity Mars Rover Snaps Its Highest-Resolution Panorama Yet\", 'preview': 'To go along with the stunning 1.8-billion-pixel image, a new video offers a sweeping view of the Red Planet.'}, {'title': 'MAVEN Maps Electric Currents around Mars that are Fundamental to Atmospheric Loss', 'preview': 'Five years after NASA’s MAVEN spacecraft entered into orbit around Mars, data from the mission has led to the creation of a map of electric current systems in the Martian atmosphere.'}]\n"
     ]
    }
   ],
   "source": [
    "# Print the list to confirm success\n",
    "print(my_dict)"
   ]
  },
  {
   "cell_type": "code",
   "execution_count": 10,
   "metadata": {},
   "outputs": [],
   "source": [
    "browser.quit()"
   ]
  },
  {
   "cell_type": "markdown",
   "metadata": {},
   "source": [
    "### (Optional) Step 4: Export the Data\n",
    "\n",
    "Optionally, store the scraped data in a file or database (to ease sharing the data with others). To do so, export the scraped data to either a JSON file or a MongoDB database."
   ]
  },
  {
   "cell_type": "code",
   "execution_count": 11,
   "metadata": {},
   "outputs": [
    {
     "name": "stdout",
     "output_type": "stream",
     "text": [
      "[{\"title\": \"NASA Administrator Statement on Moon to Mars Initiative, FY 2021 Budget\", \"preview\": \"Jim Bridenstine addresses NASA's ambitious plans for the coming years, including Mars Sample Return.\"}, {\"title\": \"Meet the People Behind NASA's Perseverance Rover\", \"preview\": \"These are the scientists and engineers who built NASA's next Mars rover and who will guide it to a safe landing in Jezero Crater. \"}, {\"title\": \"8 Martian Postcards to Celebrate Curiosity's Landing Anniversary\", \"preview\": \"The NASA rover touched down eight years ago, on Aug. 5, 2012, and will soon be joined by a second rover, Perseverance.\"}, {\"title\": \"NASA's Ingenuity Mars Helicopter Recharges Its Batteries in Flight\", \"preview\": \"Headed to the Red Planet with the Perseverance rover, the pioneering helicopter is powered up for the first time in interplanetary space as part of a systems check.\"}, {\"title\": \"Three New Views of Mars' Moon Phobos\", \"preview\": \"Taken with the infrared camera aboard NASA's Odyssey orbiter, they reveal temperature variations on the small moon as it drifts into and out of Mars\\u2019 shadow.\"}, {\"title\": \"NASA's Mars 2020 Comes Full Circle\", \"preview\": \"Aiming to pinpoint the Martian vehicle's center of gravity, engineers took NASA's 2,300-pound Mars 2020 rover for a spin in the clean room at JPL. \"}, {\"title\": \"NASA's Perseverance Rover Will Carry First Spacesuit Materials to Mars\", \"preview\": \"In a Q&A, spacesuit designer Amy Ross explains how five samples, including a piece of helmet visor, will be tested aboard the rover, which is targeting a July 30 launch. \"}, {\"title\": \"Space History Is Made in This NASA Robot Factory\", \"preview\": \"From rockets to rovers, JPL's Spacecraft Assembly Facility has been at the center of robotic spaceflight. Here's a closer look at what makes it so special.\"}, {\"title\": \"Mars 2020 Unwrapped and Ready for More Testing\", \"preview\": \"In time-lapse video, bunny-suited engineers remove the inner layer of protective foil on NASA's Mars 2020 rover after it was relocated for testing.\"}, {\"title\": \"10.9 Million Names Now Aboard NASA's Perseverance Mars Rover\", \"preview\": \"As part of NASA's 'Send Your Name to Mars' campaign, they've been stenciled onto three microchips along with essays from NASA's 'Name the Rover' contest. Next stop: Mars.\"}, {\"title\": \"Mars Is Getting a New Robotic Meteorologist\", \"preview\": \"Sensors on NASA's Perseverance will help prepare for future human exploration by taking weather measurements and studying dust particles.\"}, {\"title\": \"The MarCO Mission Comes to an End\", \"preview\": \"The pair of briefcase-sized satellites made history when they sailed past Mars in 2019.\"}, {\"title\": \"How NASA's Mars Helicopter Will Reach the Red Planet's Surface\", \"preview\": \"The small craft will seek to prove that powered, controlled flight is possible on another planet. But just getting it onto the surface of Mars will take a whole lot of ingenuity.\"}, {\"title\": \"NASA's Curiosity Mars Rover Snaps Its Highest-Resolution Panorama Yet\", \"preview\": \"To go along with the stunning 1.8-billion-pixel image, a new video offers a sweeping view of the Red Planet.\"}, {\"title\": \"MAVEN Maps Electric Currents around Mars that are Fundamental to Atmospheric Loss\", \"preview\": \"Five years after NASA\\u2019s MAVEN spacecraft entered into orbit around Mars, data from the mission has led to the creation of a map of electric current systems in the Martian atmosphere.\"}]\n"
     ]
    }
   ],
   "source": [
    "# Export data to JSON\n",
    "mars_json = json.dumps(my_dict, default=str)\n",
    "print(mars_json)"
   ]
  },
  {
   "cell_type": "code",
   "execution_count": 12,
   "metadata": {},
   "outputs": [],
   "source": [
    "with open('mars_news.json', 'w') as outfile:\n",
    "    outfile.write(mars_json)"
   ]
  },
  {
   "cell_type": "code",
   "execution_count": 13,
   "metadata": {},
   "outputs": [
    {
     "data": {
      "text/plain": [
       "<pymongo.results.InsertManyResult at 0x1d04e9fff10>"
      ]
     },
     "execution_count": 13,
     "metadata": {},
     "output_type": "execute_result"
    }
   ],
   "source": [
    "# Export data to MongoDB\n",
    "# create a table and collection in mongoDB \n",
    "#drop the data into the database\n",
    "conn = 'mongodb://localhost:27017'\n",
    "client = pymongo.MongoClient(conn)\n",
    "\n",
    "# Define the 'classDB' database in Mongo\n",
    "db = client.mars_news_DB\n",
    "#drop the collection if exists\n",
    "db.table.drop()\n",
    "\n",
    "#collection \n",
    "\n",
    "collection = db['title_pre']\n",
    "\n",
    "# Insert collection\n",
    "collection.insert_many(my_dict)"
   ]
  },
  {
   "cell_type": "code",
   "execution_count": null,
   "metadata": {},
   "outputs": [],
   "source": []
  }
 ],
 "metadata": {
  "kernelspec": {
   "display_name": "PythonData",
   "language": "python",
   "name": "pythondata"
  },
  "language_info": {
   "codemirror_mode": {
    "name": "ipython",
    "version": 3
   },
   "file_extension": ".py",
   "mimetype": "text/x-python",
   "name": "python",
   "nbconvert_exporter": "python",
   "pygments_lexer": "ipython3",
   "version": "3.9.13"
  }
 },
 "nbformat": 4,
 "nbformat_minor": 4
}
